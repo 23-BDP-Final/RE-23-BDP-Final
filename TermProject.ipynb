{
  "cells": [
    {
      "cell_type": "code",
      "execution_count": 1,
      "metadata": {
        "id": "DEOHE1YfwKCM"
      },
      "outputs": [],
      "source": [
        "import pandas as pd\n",
        "content = pd.read_csv('https://raw.githubusercontent.com/23-BDP-Final/RE-23-BDP-Final/main/crawling/content_1459.csv')"
      ]
    },
    {
      "cell_type": "code",
      "execution_count": 2,
      "metadata": {
        "colab": {
          "base_uri": "https://localhost:8080/",
          "height": 666
        },
        "id": "UH2poRh00SO0",
        "outputId": "b3a775be-e147-4f1b-feba-fa453b201a45"
      },
      "outputs": [
        {
          "data": {
            "text/html": [
              "<div>\n",
              "<style scoped>\n",
              "    .dataframe tbody tr th:only-of-type {\n",
              "        vertical-align: middle;\n",
              "    }\n",
              "\n",
              "    .dataframe tbody tr th {\n",
              "        vertical-align: top;\n",
              "    }\n",
              "\n",
              "    .dataframe thead th {\n",
              "        text-align: right;\n",
              "    }\n",
              "</style>\n",
              "<table border=\"1\" class=\"dataframe\">\n",
              "  <thead>\n",
              "    <tr style=\"text-align: right;\">\n",
              "      <th></th>\n",
              "      <th>position</th>\n",
              "      <th>company_name</th>\n",
              "      <th>description</th>\n",
              "      <th>requirement</th>\n",
              "      <th>preferred</th>\n",
              "      <th>like</th>\n",
              "    </tr>\n",
              "  </thead>\n",
              "  <tbody>\n",
              "    <tr>\n",
              "      <th>0</th>\n",
              "      <td>서비스 백엔드 엔지니어</td>\n",
              "      <td>롯데헬스케어</td>\n",
              "      <td>• 개인 맞춤형 건강관리 서비스를 제공하는 롯데헬스케어 플랫폼 신규 개발\\n• 회원...</td>\n",
              "      <td>• 1년 이상의 서비스 개발 및 운영 경험자\\n• 본인이 사용한 기술과 환경에 대한...</td>\n",
              "      <td>• JavaScript, TypeScript, Golang, Python 경험자\\n...</td>\n",
              "      <td>158</td>\n",
              "    </tr>\n",
              "    <tr>\n",
              "      <th>1</th>\n",
              "      <td>[인텔리전스랩스] 백엔드 개발자</td>\n",
              "      <td>넥슨코리아(NEXON)</td>\n",
              "      <td>• 모바일/웹 서비스의 서버 개발 및 운영\\n• 모니터링을 통한 이슈 트래킹 및 지...</td>\n",
              "      <td>• Java/Python/Node.js/C# 등 1가지 이상 언어 기반 백엔드 개발...</td>\n",
              "      <td>• 새로운 기술과 트렌드에 대한 관심이 많으신 분\\n• 성능 튜닝에 대한 노하우가 ...</td>\n",
              "      <td>205</td>\n",
              "    </tr>\n",
              "    <tr>\n",
              "      <th>2</th>\n",
              "      <td>신입 백엔드 엔지니어 (JAVA)</td>\n",
              "      <td>스탠바이랩</td>\n",
              "      <td>• 스탠바이랩 웹 애플리케이션 및 자동화 시스템을 위한 백엔드 설계/개발/운영\\n•...</td>\n",
              "      <td>• Java를 이용한 백엔드 개발 경험\\n• RDBMS 또는 NoSQL에 대한 기본...</td>\n",
              "      <td>• Linux/Unix 사용경험\\n• 컴퓨터공학 전공자에 준하는 CS지식 보유</td>\n",
              "      <td>293</td>\n",
              "    </tr>\n",
              "    <tr>\n",
              "      <th>3</th>\n",
              "      <td>[200억↑투자] 백엔드 개발자 (Spring, Python, MSA)</td>\n",
              "      <td>페이타랩(패스오더)</td>\n",
              "      <td>【페이타랩 프로덕트팀】\\n\\n프로덕트팀은 패스오더 유저와 점주님을 연결하며 고객지향...</td>\n",
              "      <td>【이런 분을 찾고 있어요!】\\n\\n• Python, Kotlin, Java 중 하나...</td>\n",
              "      <td>【이런 분이면 더 좋아요!】\\n\\n- MSA를 이해하고 개발 및 설계를 경험해 보신...</td>\n",
              "      <td>469</td>\n",
              "    </tr>\n",
              "    <tr>\n",
              "      <th>4</th>\n",
              "      <td>[신입] 백엔드 엔지니어</td>\n",
              "      <td>토기</td>\n",
              "      <td>• 자사 서비스 관련 Kotlin Spring 기반 Restful API 백엔드 서...</td>\n",
              "      <td>• Spring(Java/Kotlin), Rails, Node.js, django,...</td>\n",
              "      <td>• Kotlin Spring을 활용한 서비스 개발 경험이 있으신 분\\n• AWS 등...</td>\n",
              "      <td>50</td>\n",
              "    </tr>\n",
              "    <tr>\n",
              "      <th>...</th>\n",
              "      <td>...</td>\n",
              "      <td>...</td>\n",
              "      <td>...</td>\n",
              "      <td>...</td>\n",
              "      <td>...</td>\n",
              "      <td>...</td>\n",
              "    </tr>\n",
              "    <tr>\n",
              "      <th>1454</th>\n",
              "      <td>모바일 로봇 제어 SW 개발자 (navigation)</td>\n",
              "      <td>알지티</td>\n",
              "      <td>ㆍ지도에서 효율적이고 안전한 global path planning 알고리즘 개발\\n...</td>\n",
              "      <td>ㆍ관련 경력 3년이상\\nㆍ실내 Navigation 분야 상용화 제품 개발 경력자(저...</td>\n",
              "      <td>ㆍNavigation 관련 분야 석사 혹은 박사 학위 소유자\\nㆍISO13482 인...</td>\n",
              "      <td>0</td>\n",
              "    </tr>\n",
              "    <tr>\n",
              "      <th>1455</th>\n",
              "      <td>모바일게임 애니메이터</td>\n",
              "      <td>알로하팩토리</td>\n",
              "      <td>알로하 팩토리의 아트팀은 무엇을 하나요?\\n\\n알로하팩토리 모바일 캐주얼 게임의 모...</td>\n",
              "      <td>이런 분과 함께 하고 싶어요!\\n\\n• 업무 관련 툴 능숙하신분 (unity, 3D...</td>\n",
              "      <td>• 협업 및 커뮤니케이션 원활하신 분\\n• 카메라 연출 등 씬 구성 연출적 감각 있...</td>\n",
              "      <td>0</td>\n",
              "    </tr>\n",
              "    <tr>\n",
              "      <th>1456</th>\n",
              "      <td>모바일 퍼즐게임 UI/GUI Artist</td>\n",
              "      <td>퍼즐원스튜디오</td>\n",
              "      <td>ㆍ모바일 퍼즐 게임 UI 리소스 제작\\nㆍ북미풍 아트 스타일 분석 및 연구</td>\n",
              "      <td>ㆍ게임 UI/GUI 제작 경력이 3년 이상 10년 미만이신 분\\nㆍ포토샵, 일러스트...</td>\n",
              "      <td>ㆍ퍼즐 게임을 좋아하고 플레이 경험이 많으신 분\\nㆍ북미 아트풍에 대한 이해도가 있...</td>\n",
              "      <td>1</td>\n",
              "    </tr>\n",
              "    <tr>\n",
              "      <th>1457</th>\n",
              "      <td>모바일 광고 플랫폼의 B2B 마케터</td>\n",
              "      <td>오픈랩소디</td>\n",
              "      <td>• 고객 여정에 따른 마케팅 퍼널 기획 및 분석 \\n• B2B 고객리드 확보를 위한...</td>\n",
              "      <td>• B2B 마케팅 경력 1년 이상 \\n• 1차 면접에서 포트폴리오 필수 제출 (형식...</td>\n",
              "      <td>• 모바일 광고 시장에 대한 이해가 있으신 분</td>\n",
              "      <td>0</td>\n",
              "    </tr>\n",
              "    <tr>\n",
              "      <th>1458</th>\n",
              "      <td>모바일 앱 북미권 운영 담당자</td>\n",
              "      <td>코코네엠(coconeM)</td>\n",
              "      <td>• 앱 내에 표시되는 아이템, 이벤트의 데이터 등록\\n• 스프레드 시트를 이용하여 ...</td>\n",
              "      <td>• 신입이거나, 5년 이하의 경력을 지니신 분\\n• 고객 대응 전반에 해당하는 영역...</td>\n",
              "      <td>• 북미 거주 경험이 있는 분\\n• 서비스 운영, 전략 기획에 경험이 있는 분\\n•...</td>\n",
              "      <td>0</td>\n",
              "    </tr>\n",
              "  </tbody>\n",
              "</table>\n",
              "<p>1459 rows × 6 columns</p>\n",
              "</div>"
            ],
            "text/plain": [
              "                                     position   company_name  \\\n",
              "0                                서비스 백엔드 엔지니어         롯데헬스케어   \n",
              "1                           [인텔리전스랩스] 백엔드 개발자   넥슨코리아(NEXON)   \n",
              "2                          신입 백엔드 엔지니어 (JAVA)          스탠바이랩   \n",
              "3     [200억↑투자] 백엔드 개발자 (Spring, Python, MSA)     페이타랩(패스오더)   \n",
              "4                               [신입] 백엔드 엔지니어             토기   \n",
              "...                                       ...            ...   \n",
              "1454            모바일 로봇 제어 SW 개발자 (navigation)            알지티   \n",
              "1455                              모바일게임 애니메이터         알로하팩토리   \n",
              "1456                   모바일 퍼즐게임 UI/GUI Artist        퍼즐원스튜디오   \n",
              "1457                      모바일 광고 플랫폼의 B2B 마케터          오픈랩소디   \n",
              "1458                         모바일 앱 북미권 운영 담당자  코코네엠(coconeM)   \n",
              "\n",
              "                                            description  \\\n",
              "0     • 개인 맞춤형 건강관리 서비스를 제공하는 롯데헬스케어 플랫폼 신규 개발\\n• 회원...   \n",
              "1     • 모바일/웹 서비스의 서버 개발 및 운영\\n• 모니터링을 통한 이슈 트래킹 및 지...   \n",
              "2     • 스탠바이랩 웹 애플리케이션 및 자동화 시스템을 위한 백엔드 설계/개발/운영\\n•...   \n",
              "3     【페이타랩 프로덕트팀】\\n\\n프로덕트팀은 패스오더 유저와 점주님을 연결하며 고객지향...   \n",
              "4     • 자사 서비스 관련 Kotlin Spring 기반 Restful API 백엔드 서...   \n",
              "...                                                 ...   \n",
              "1454  ㆍ지도에서 효율적이고 안전한 global path planning 알고리즘 개발\\n...   \n",
              "1455  알로하 팩토리의 아트팀은 무엇을 하나요?\\n\\n알로하팩토리 모바일 캐주얼 게임의 모...   \n",
              "1456          ㆍ모바일 퍼즐 게임 UI 리소스 제작\\nㆍ북미풍 아트 스타일 분석 및 연구   \n",
              "1457  • 고객 여정에 따른 마케팅 퍼널 기획 및 분석 \\n• B2B 고객리드 확보를 위한...   \n",
              "1458  • 앱 내에 표시되는 아이템, 이벤트의 데이터 등록\\n• 스프레드 시트를 이용하여 ...   \n",
              "\n",
              "                                            requirement  \\\n",
              "0     • 1년 이상의 서비스 개발 및 운영 경험자\\n• 본인이 사용한 기술과 환경에 대한...   \n",
              "1     • Java/Python/Node.js/C# 등 1가지 이상 언어 기반 백엔드 개발...   \n",
              "2     • Java를 이용한 백엔드 개발 경험\\n• RDBMS 또는 NoSQL에 대한 기본...   \n",
              "3     【이런 분을 찾고 있어요!】\\n\\n• Python, Kotlin, Java 중 하나...   \n",
              "4     • Spring(Java/Kotlin), Rails, Node.js, django,...   \n",
              "...                                                 ...   \n",
              "1454  ㆍ관련 경력 3년이상\\nㆍ실내 Navigation 분야 상용화 제품 개발 경력자(저...   \n",
              "1455  이런 분과 함께 하고 싶어요!\\n\\n• 업무 관련 툴 능숙하신분 (unity, 3D...   \n",
              "1456  ㆍ게임 UI/GUI 제작 경력이 3년 이상 10년 미만이신 분\\nㆍ포토샵, 일러스트...   \n",
              "1457  • B2B 마케팅 경력 1년 이상 \\n• 1차 면접에서 포트폴리오 필수 제출 (형식...   \n",
              "1458  • 신입이거나, 5년 이하의 경력을 지니신 분\\n• 고객 대응 전반에 해당하는 영역...   \n",
              "\n",
              "                                              preferred  like  \n",
              "0     • JavaScript, TypeScript, Golang, Python 경험자\\n...   158  \n",
              "1     • 새로운 기술과 트렌드에 대한 관심이 많으신 분\\n• 성능 튜닝에 대한 노하우가 ...   205  \n",
              "2           • Linux/Unix 사용경험\\n• 컴퓨터공학 전공자에 준하는 CS지식 보유   293  \n",
              "3     【이런 분이면 더 좋아요!】\\n\\n- MSA를 이해하고 개발 및 설계를 경험해 보신...   469  \n",
              "4     • Kotlin Spring을 활용한 서비스 개발 경험이 있으신 분\\n• AWS 등...    50  \n",
              "...                                                 ...   ...  \n",
              "1454  ㆍNavigation 관련 분야 석사 혹은 박사 학위 소유자\\nㆍISO13482 인...     0  \n",
              "1455  • 협업 및 커뮤니케이션 원활하신 분\\n• 카메라 연출 등 씬 구성 연출적 감각 있...     0  \n",
              "1456  ㆍ퍼즐 게임을 좋아하고 플레이 경험이 많으신 분\\nㆍ북미 아트풍에 대한 이해도가 있...     1  \n",
              "1457                          • 모바일 광고 시장에 대한 이해가 있으신 분     0  \n",
              "1458  • 북미 거주 경험이 있는 분\\n• 서비스 운영, 전략 기획에 경험이 있는 분\\n•...     0  \n",
              "\n",
              "[1459 rows x 6 columns]"
            ]
          },
          "execution_count": 2,
          "metadata": {},
          "output_type": "execute_result"
        }
      ],
      "source": [
        "content # 1459 rows × 6 columns"
      ]
    },
    {
      "cell_type": "code",
      "execution_count": 3,
      "metadata": {
        "id": "TW_xjaf0_juD"
      },
      "outputs": [],
      "source": [
        "# 중복되는 rows 제거.\n",
        "contents = content.drop_duplicates(ignore_index=True) # 원래 index 무시하고, 새로운 index(0,1,2 ...) 적용"
      ]
    },
    {
      "cell_type": "code",
      "execution_count": 4,
      "metadata": {
        "colab": {
          "base_uri": "https://localhost:8080/"
        },
        "id": "pqhjQ6M09ZK-",
        "outputId": "0d440d8e-2824-4cae-81d3-476bd3ab3f76"
      },
      "outputs": [
        {
          "data": {
            "text/plain": [
              "(1431, 6)"
            ]
          },
          "execution_count": 4,
          "metadata": {},
          "output_type": "execute_result"
        }
      ],
      "source": [
        "contents.shape\n",
        "# 중복되는 row를 제거하니, 기존 1459rows에서 1431rows로 변경되었다."
      ]
    },
    {
      "cell_type": "code",
      "execution_count": 5,
      "metadata": {
        "colab": {
          "base_uri": "https://localhost:8080/"
        },
        "id": "RTm3KD6X2mlC",
        "outputId": "98b044ac-7133-491b-87e4-c3bba9b5083f"
      },
      "outputs": [
        {
          "data": {
            "text/plain": [
              "position        0\n",
              "company_name    0\n",
              "description     0\n",
              "requirement     0\n",
              "preferred       0\n",
              "like            0\n",
              "dtype: int64"
            ]
          },
          "execution_count": 5,
          "metadata": {},
          "output_type": "execute_result"
        }
      ],
      "source": [
        "contents.isnull().sum() # null값 없음."
      ]
    },
    {
      "cell_type": "code",
      "execution_count": 6,
      "metadata": {
        "colab": {
          "base_uri": "https://localhost:8080/"
        },
        "id": "KWN0dmQV2sZW",
        "outputId": "1fd7b762-8479-43cd-beba-e8600e5dd4ba"
      },
      "outputs": [
        {
          "data": {
            "text/plain": [
              "1088"
            ]
          },
          "execution_count": 6,
          "metadata": {},
          "output_type": "execute_result"
        }
      ],
      "source": [
        "contents['position'].nunique() # 1088개의 unique한 'position' 존재."
      ]
    },
    {
      "cell_type": "code",
      "execution_count": 7,
      "metadata": {
        "colab": {
          "base_uri": "https://localhost:8080/"
        },
        "id": "M5n-JUjP6G0B",
        "outputId": "67304a20-5e43-4cdc-dea6-9eb5098adf30"
      },
      "outputs": [
        {
          "data": {
            "text/plain": [
              "백엔드 개발자                                78\n",
              "프론트엔드 개발자                              67\n",
              "데이터 엔지니어                               21\n",
              "백엔드 엔지니어                               17\n",
              "프론트엔드 엔지니어                             13\n",
              "                                       ..\n",
              "백엔드 개발자(팀장/리더)                          1\n",
              "백엔드 개발자(5-10년)                          1\n",
              "시니어 백엔드 개발자 (5년 이상)                     1\n",
              "[600억↑투자] [핀테크] RA(로보 어드바이저) 백엔드 개발     1\n",
              "모바일 앱 북미권 운영 담당자                        1\n",
              "Name: position, Length: 1088, dtype: int64"
            ]
          },
          "execution_count": 7,
          "metadata": {},
          "output_type": "execute_result"
        }
      ],
      "source": [
        "contents['position'].value_counts() # 'position'의 중복되기도하는 여러 값들."
      ]
    },
    {
      "cell_type": "code",
      "execution_count": 8,
      "metadata": {
        "colab": {
          "base_uri": "https://localhost:8080/"
        },
        "id": "znQ7hVQd6TWB",
        "outputId": "a5031966-26bb-42d4-95ab-389cc5b04ffe"
      },
      "outputs": [
        {
          "data": {
            "text/plain": [
              "807"
            ]
          },
          "execution_count": 8,
          "metadata": {},
          "output_type": "execute_result"
        }
      ],
      "source": [
        "contents['company_name'].nunique() # 807개의 unique한 'company_name' 존재."
      ]
    },
    {
      "cell_type": "code",
      "execution_count": 9,
      "metadata": {
        "colab": {
          "base_uri": "https://localhost:8080/"
        },
        "id": "urA9jV_a6h_k",
        "outputId": "45683b80-2e8b-4324-ef1e-fea887f8e1c1"
      },
      "outputs": [
        {
          "data": {
            "text/plain": [
              "한국신용데이터(KCD)          19\n",
              "넥슨코리아(NEXON)          16\n",
              "브레이브모바일(숨고,Soomgo)    11\n",
              "캐논크래커                  9\n",
              "위메이드(WEMADE)           8\n",
              "                      ..\n",
              "트리플콤마(골드스푼)            1\n",
              "인디제이                   1\n",
              "와디즈                    1\n",
              "아백                     1\n",
              "코코네엠(coconeM)          1\n",
              "Name: company_name, Length: 807, dtype: int64"
            ]
          },
          "execution_count": 9,
          "metadata": {},
          "output_type": "execute_result"
        }
      ],
      "source": [
        "contents['company_name'].value_counts() # 'company_name'의 중복되기도하는 여러 값들."
      ]
    },
    {
      "cell_type": "code",
      "execution_count": 10,
      "metadata": {
        "colab": {
          "base_uri": "https://localhost:8080/"
        },
        "id": "-tHZcPFzBgbg",
        "outputId": "56e482aa-0a42-42c4-ff4a-726348798a20"
      },
      "outputs": [
        {
          "data": {
            "text/plain": [
              "1378"
            ]
          },
          "execution_count": 10,
          "metadata": {},
          "output_type": "execute_result"
        }
      ],
      "source": [
        "contents['description'].nunique() # 1378개의 unique한 'description' 존재."
      ]
    },
    {
      "cell_type": "code",
      "execution_count": 11,
      "metadata": {
        "colab": {
          "base_uri": "https://localhost:8080/"
        },
        "id": "fNF7cgf3B1rS",
        "outputId": "f99c1841-da71-413a-f9df-a90fd53b8a67"
      },
      "outputs": [
        {
          "data": {
            "text/plain": [
              "• 스탠바이랩 웹 애플리케이션 및 자동화 시스템을 위한 백엔드 설계/개발/운영\\n• 신뢰성 있는 시스템 유지 위한 연구/개발\\n• Git, Slack, Notion을 이용한 협업                                                                                                                                                                                                                                                                                   3\n",
              "• 엘리스 플랫폼을 위한 서버를 설계하고 개발합니다.\\n• 기획/운영/개발이 한 팀에 모여 2주 단위 스프린트를 하며 기민하게 업무 수행을 합니다.\\n• 지속적으로 증가하는 트래픽의 안정적인 처리와 복잡한 비지니스 요구사항을 만족시키기 위해 시스템을 확장하고 개선합니다.\\n• 최신 기술들을 적극 활용하여 서비스가 빠르고 안정적으로 운영될 수 있도록 하며, 실제 사용자들의 데이터를 기반으로 문제를 정의하고, 빠르고 유연하게 해결합니다.\\n• 실시간으로 협업 가능한 WebSocket 기반의 코드 에디터를 개발하고 고도화합니다.\\n• WebRTC 기반의 화상 서비스를 개발하고 고도화합니다.\\n• 리눅스 컨테이너 기반의 코드 실행 서비스를 개발하고 고도화합니다.    3\n",
              "• 개인 맞춤형 건강관리 서비스를 제공하는 롯데헬스케어 플랫폼 신규 개발\\n• 회원, 상품, 주문, 정산 등 e커머스 기능의 백엔드 서비스 개발\\n• 유전자 분석 정보, 건강 정보 등 맞춤형 건강 관리를 위한 시스템 연동 및 서비스 개발\\n• 대용량 트래픽에도 안정적인 서비스를 위한 시스템 설계 및 개발                                                                                                                                                                                                            2\n",
              "- 전형\\n 서류심사 - 1차 면접 - 2차 면접                                                                                                                                                                                                                                                                                                                                                           2\n",
              "• 포그리트의 메인 서비스(UX heatmap, Journey Map)의 신규 기능 개발 및 업데이트\\n• 포그리트의 국내외 마케팅/이벤트 페이지의 개발\\n• 백오피스 기능 개발                                                                                                                                                                                                                                                                                   2\n",
              "                                                                                                                                                                                                                                                                                                                                                                                     ..\n",
              "• 물류 산업 내 업무들의 디지털 전환을 돕는 Saas 플랫폼을 개발합니다.\\n• 많은 데이터를 안정적이고 효율적으로 처리하기 위한 아키텍처 설계에 참여합니다.\\n• 현재 운영되고 있는 윌로그 Saas 플랫폼의 확장성, 안정성을 위한 방안을 고민하고 실행합니다. \\n• 윌로그 고객들이 더욱 향상된 물류 관리 서비스를 이용할 수 있도록 문제를 함께 해결하고, 견고한 \\n• Saas 플랫폼 서비스를 개발합니다.                                                                                                                                                 1\n",
              "• Node.js와 Typescript를 이용하여 코딧 API 서버를 구현하고, 기능을 추가하게 됩니다.\\n• 각종 법령 및 규제와 관련하여 수집된 데이터를 ELK와 연동하여 API 서버를 구현합니다.\\n• AWS의 여러 서비스를 이용하여 서버를 구성하고 관리하게 됩니다.                                                                                                                                                                                                                              1\n",
              "• 서비스 Back-end 개발 및 유지보수\\n\\n\\n[사용 기술]\\n\\nㆍPython, django, flask\\nㆍMysql, MongoDB\\nㆍAWS\\nㆍGit                                                                                                                                                                                                                                                                                          1\n",
              "• 자사 애딥 SNS 소셜 미디어플랫폼 서비스의 백엔드 개발 업무\\n• 글로벌 플랫폼에 필요한 서비스 개발                                                                                                                                                                                                                                                                                                                           1\n",
              "• 앱 내에 표시되는 아이템, 이벤트의 데이터 등록\\n• 스프레드 시트를 이용하여 필요한 데이터 정리\\n• 확률, 퀘스트 보상 등의 밸런싱 진행\\n• 고객에게 안내할 앱 내부/외부 공지 구성 및 작성\\n• CMS, 마케팅 툴 등을 이용하여 앱 내의 공지 및 PUSH 등 등록 작업 진행\\n• 공지 문구 등을 작성하고, 필요 시 디자인 파트에서 작업하는 공지 리소스 구성\\n• 개선 사항이나 캠페인 (이벤트) 등의 기획 및 진행\\n• 기능적인 개선 사항, SNS 캠페인 등을 기획하여 문서화\\n• 타 파트와 협업하여 기획 내용 스케줄링, 진척 상황 체크, 진행 및 오픈                                                         1\n",
              "Name: description, Length: 1378, dtype: int64"
            ]
          },
          "execution_count": 11,
          "metadata": {},
          "output_type": "execute_result"
        }
      ],
      "source": [
        "contents['description'].value_counts() # 'description'의 중복되기도하는 여러 값들."
      ]
    },
    {
      "cell_type": "code",
      "execution_count": 12,
      "metadata": {
        "colab": {
          "base_uri": "https://localhost:8080/"
        },
        "id": "udHKIn27IZtW",
        "outputId": "4daaad9f-ffaf-49b4-d7bf-7a2238565f2b"
      },
      "outputs": [
        {
          "name": "stdout",
          "output_type": "stream",
          "text": [
            "index [2, 119, 247]의 내용은 • 스탠바이랩 웹 애플리케이션 및 자동화 시스템을 위한 백엔드 설계/개발/운영\n",
            "• 신뢰성 있는 시스템 유지 위한 연구/개발\n",
            "• Git, Slack, Notion을 이용한 협업% \n"
          ]
        }
      ],
      "source": [
        "# contents['description']에서 중복된 값이 무엇인지 찾아보자.\n",
        "test = \"• 스탠바이랩 웹 애플리케이션 및 자동화 시스템을 위한 백엔드 설계/개발/운영\\n• 신뢰성 있는 시스템 유지 위한 연구/개발\\n• Git, Slack, Notion을 이용한 협업\"\n",
        "index = [i for i, v in enumerate(contents['description']) if v==test]\n",
        "print('index {}의 내용은 {}% '.format(list(map(lambda x: x, index)), test))"
      ]
    },
    {
      "cell_type": "code",
      "execution_count": 13,
      "metadata": {
        "colab": {
          "base_uri": "https://localhost:8080/"
        },
        "id": "emqKwZtOJIzE",
        "outputId": "0c6019ce-3e2d-4b5f-b3ea-d8fda28af3a4"
      },
      "outputs": [
        {
          "name": "stdout",
          "output_type": "stream",
          "text": [
            "position                                       신입 백엔드 엔지니어 (JAVA)\n",
            "company_name                                                스탠바이랩\n",
            "description     • 스탠바이랩 웹 애플리케이션 및 자동화 시스템을 위한 백엔드 설계/개발/운영\\n•...\n",
            "requirement     • Java를 이용한 백엔드 개발 경험\\n• RDBMS 또는 NoSQL에 대한 기본...\n",
            "preferred             • Linux/Unix 사용경험\\n• 컴퓨터공학 전공자에 준하는 CS지식 보유\n",
            "like                                                          293\n",
            "Name: 2, dtype: object\n",
            "position                                      주니어 백엔드 엔지니어 (JAVA)\n",
            "company_name                                                스탠바이랩\n",
            "description     • 스탠바이랩 웹 애플리케이션 및 자동화 시스템을 위한 백엔드 설계/개발/운영\\n•...\n",
            "requirement     • 2년~5년의 실무경험\\n• Java를 이용한 백엔드 개발, 운영 경험\\n• RD...\n",
            "preferred       • SaaS 백엔드 설계/개발/운영 경험이 있으신 분\\n• 개발자가 아닌 구성원에게...\n",
            "like                                                           36\n",
            "Name: 119, dtype: object\n",
            "position                             백엔드 엔지니어(병역특례/산업기능요원/보충역/전직)\n",
            "company_name                                                스탠바이랩\n",
            "description     • 스탠바이랩 웹 애플리케이션 및 자동화 시스템을 위한 백엔드 설계/개발/운영\\n•...\n",
            "requirement     [지원자 공통]\\n• Java / Javascript 중 하나 이상을 이용한 백엔드...\n",
            "preferred       [우대사항은 전직지원자만 해당됩니다]\\n• SaaS 백엔드 설계/개발/운영 경험이 ...\n",
            "like                                                           18\n",
            "Name: 247, dtype: object\n"
          ]
        }
      ],
      "source": [
        "print(contents.iloc[2])\n",
        "print(contents.iloc[119])\n",
        "print(contents.iloc[247])\n",
        "# contents['description'] 내용은 중복된 것이지만, 모두 다른 내용의 row이다.\n",
        "# drop_duplicates이 잘 적용된 것으로 간주하자."
      ]
    },
    {
      "cell_type": "code",
      "execution_count": 14,
      "metadata": {
        "colab": {
          "base_uri": "https://localhost:8080/"
        },
        "id": "5T5QOZTHCAIZ",
        "outputId": "b069f8b4-625c-497f-a251-7e77663e74f4"
      },
      "outputs": [
        {
          "data": {
            "text/plain": [
              "1400"
            ]
          },
          "execution_count": 14,
          "metadata": {},
          "output_type": "execute_result"
        }
      ],
      "source": [
        "contents['requirement'].nunique() # 1400개의 unique한 'requirement' 존재."
      ]
    },
    {
      "cell_type": "code",
      "execution_count": 15,
      "metadata": {
        "colab": {
          "base_uri": "https://localhost:8080/"
        },
        "id": "2jat1rKnCFxk",
        "outputId": "2c0d6268-0b7e-443d-f9a2-9b5a9e0851ed"
      },
      "outputs": [
        {
          "data": {
            "text/plain": [
              "이런 분이 필요해요!\\n\\n- 5년 이상 백엔드 애플리케이션 개발을 경험하신 분\\n- 파이썬에 대한 거부감이 없고, 특정 언어에 얽매이지 않는 유연함을 갖춘 분\\n- 다양한 레벨의 테스트 코드를 작성한 경험이 있는 분\\n- Git과 Docker를 사용해 제품을 관리 및 배포한 경험이 있는 분\\n- AWS 등 퍼블릭 클라우드를 이용해 서비스 구축, 운영을 경험하신 분\\n- 다양한 직무의 동료와 소통 및 협업하는데 능숙한 분\\n- 동료와 지식을 나누는 것을 좋아하시는 분                                                                                                                                                                                                          3\n",
              "ㆍFrontend 혹은 Backend 경력 2년 이상\\nㆍGit 등을 통한 협업 및 Mac 기본적인 사용 가능자\\nㆍ주도성, 오너십을 가지고 업무를 이끌어 나가실 수 있는 분\\nㆍ새로운 걸 배우는데 두려움이 없고,  성장할 준비가 되신 분\\nㆍ팀원과 적극적으로 대화할 수 있는 의사소통 능력이 있으신 분\\nㆍUI/UX에 대해 높은 가치를 두고 있는 분                                                                                                                                                                                                                                                                             3\n",
              "• 프로덕션 환경에서 React + TypeScript 로 웹 프론트엔드 프로덕트를 2년 이상 개발/운영한 경험\\n• 프론트엔드의 각 레이어에서 사용 가능한 기술 스택의 장단점을 이해하고, 프로덕트의 상황에 맞춰 적절한 기술을 선택할 수 있는 능력\\n• 복잡한 비즈니스 로직을 정확하고 빠르게 이해하며 기술 적자를 쌓지 않는 문제 해결 능력\\n• 빠르고 신중한 의사결정으로 업무 진행 중 병목을 효과적으로 해소하는 능력\\n• 실패를 두려워하지 않고, 반드시 결과까지 만들어 내는 도전정신을 가지고 계신 분\\n• 사업초기에 직면할 수 있는 다양한 이슈들에 유연하게 대응하며 문제 해결에 집중할 수 있는 분\\n• 기대하지 않았던 결과를 마주했을 때, 책임 소재를 묻기보다 근본적인 원인을 찾아 개선하는데 주력할 수 있는 분\\n• 구성원들의 의견을 존중하고, 겸손한 커뮤니케이션 능력을 가지고 팀원들의 신뢰자산을 쌓을 수 있는 분    3\n",
              "[이런 분을 찾고 있어요]\\n\\n• 관련 직무 경력 4년 이상인 분\\n• 컴퓨터공학에 대한 전문 지식을 갖춘 분(학/석사 학위)\\n• 정보처리기사 자격증을 보유한 분\\n• 3D 그래픽에 대한 이해도가 높은 분\\n• 개발 트렌드 분석 및 셀프 트레이닝 역량을 지닌 분                                                                                                                                                                                                                                                                                                                             2\n",
              "- Computer Science 전반에 대한 이해\\n- UI/UX 에 대한 관심과 이해가 높고 디자이너와 협업 경험\\n- HTML5/CSS/javascript 의 사용 경험과 이해 + VanillaJS 사용 경험\\n- React.js 프레임워크의 이해와 사용 경험(또는 Vue.js or Angular.js)                                                                                                                                                                                                                                                                                                    2\n",
              "                                                                                                                                                                                                                                                                                                                                                                                                                                                                                ..\n",
              "• express 기반 nodejs 실무 개발 경력 2년 이상\\n• HTTP, 캐시, 웹소켓에 대한 이해 및 개발자 도구를 통한 디버깅 경험\\n• RESTful 기반의 API 설계 및 개발 경험\\n• mariaDB, MongoDB 사용 경험\\n\\n선호 보유 스택\\n• 자료구조, 네트워크, 운영체제, 알고리즘 등의 CS에 대한 깊은 이해\\n• 데이터베이스의 효율적인 인덱스 사용법에 대한 이해 또는 튜닝 경험\\n• Docker, Git 기반의 CI/CD에 대한 경험                                                                                                                                                                                                             1\n",
              "ㆍ업무 경력 4년 이상\\nㆍ.NET(DotNet), C# 을 사용한 개발 가능자                                                                                                                                                                                                                                                                                                                                                                                                                                     1\n",
              "• 개발 경력 5년 이상 10년 이하 혹은 그에 준하는 실력을 보유한 분을 찾습니다.\\n• 데이터베이스(RDB) 설계 및 백엔드 서버 개발 경험**이 필요합니다.\\n• Java/Spring Boot 환경에서의 개발 경험이 필요합니다.\\n• WebSocket, RESTful API 기반의 서버 개발 경험이 필요합니다.\\n• 사용자 대상의 서비스 설계,개발, 런칭 및 운영 경험이 필요합니다.                                                                                                                                                                                                                                                       1\n",
              "• 개발 경력 3년 이상\\n• 긍정적으로 사고하는 분\\n• 적극적/원활한 커뮤니케이션 능력\\n• Node.js 혹은 Nest.js 기반 백엔드 서비스 개발에 능숙하신분                                                                                                                                                                                                                                                                                                                                                                                    1\n",
              "• 신입이거나, 5년 이하의 경력을 지니신 분\\n• 고객 대응 전반에 해당하는 영역에 대한 이해가 있으신 분\\n• 네이티브이거나, 현지인 수준의 영어 커뮤니케이션이 가능하신 분\\n• 데이터를 바탕으로 개선 사항을 발굴해낼 수 있는 분\\n• 소셜 및 디지털 서비스에 대해 높은 이해도를 갖추고 있는 분\\n• 타 직군과의 협업을 위해 주도적으로 소통할 수 있는 분\\n• 새로운 도전에 의욕적으로 임하고, 도전적인 업무를 희망하시는 분\\n• 데이터를 바탕으로 개선 사항을 발굴할 수 있는 분\\n• 더 나은 고객 응대를 위해 끊임 없이 고민하고 적극적으로 실행하시는 분                                                                                                                                                       1\n",
              "Name: requirement, Length: 1400, dtype: int64"
            ]
          },
          "execution_count": 15,
          "metadata": {},
          "output_type": "execute_result"
        }
      ],
      "source": [
        "contents['requirement'].value_counts() # 'requirement'의 중복되기도하는 여러 값들."
      ]
    },
    {
      "cell_type": "code",
      "execution_count": 16,
      "metadata": {
        "colab": {
          "base_uri": "https://localhost:8080/"
        },
        "id": "fDqYghkgKW7B",
        "outputId": "15925a4b-0902-4ba5-8a30-b8845780c18a"
      },
      "outputs": [
        {
          "name": "stdout",
          "output_type": "stream",
          "text": [
            "index [535, 540, 541]의 내용은 이런 분이 필요해요!\n",
            "\n",
            "- 5년 이상 백엔드 애플리케이션 개발을 경험하신 분\n",
            "- 파이썬에 대한 거부감이 없고, 특정 언어에 얽매이지 않는 유연함을 갖춘 분\n",
            "- 다양한 레벨의 테스트 코드를 작성한 경험이 있는 분\n",
            "- Git과 Docker를 사용해 제품을 관리 및 배포한 경험이 있는 분\n",
            "- AWS 등 퍼블릭 클라우드를 이용해 서비스 구축, 운영을 경험하신 분\n",
            "- 다양한 직무의 동료와 소통 및 협업하는데 능숙한 분\n",
            "- 동료와 지식을 나누는 것을 좋아하시는 분% \n"
          ]
        }
      ],
      "source": [
        "# contents['requirement']에서 중복된 값이 무엇인지 찾아보자.\n",
        "test = \"이런 분이 필요해요!\\n\\n- 5년 이상 백엔드 애플리케이션 개발을 경험하신 분\\n- 파이썬에 대한 거부감이 없고, 특정 언어에 얽매이지 않는 유연함을 갖춘 분\\n- 다양한 레벨의 테스트 코드를 작성한 경험이 있는 분\\n- Git과 Docker를 사용해 제품을 관리 및 배포한 경험이 있는 분\\n- AWS 등 퍼블릭 클라우드를 이용해 서비스 구축, 운영을 경험하신 분\\n- 다양한 직무의 동료와 소통 및 협업하는데 능숙한 분\\n- 동료와 지식을 나누는 것을 좋아하시는 분\"\n",
        "index = [i for i, v in enumerate(contents['requirement']) if v==test]\n",
        "print('index {}의 내용은 {}% '.format(list(map(lambda x: x, index)), test))"
      ]
    },
    {
      "cell_type": "code",
      "execution_count": 17,
      "metadata": {
        "colab": {
          "base_uri": "https://localhost:8080/"
        },
        "id": "kT4JLnKqKfpp",
        "outputId": "428233e4-f520-4561-e794-9bd5b7024703"
      },
      "outputs": [
        {
          "name": "stdout",
          "output_type": "stream",
          "text": [
            "position                               [GUARDIONE MOTOR] 백엔드 엔지니어\n",
            "company_name                                    원프레딕트(OnePredict)\n",
            "description     [GUARDIONE MOTOR] 백엔드 엔지니어는,\\n\\n- 안정적이고 확장성 있는...\n",
            "requirement     이런 분이 필요해요!\\n\\n- 5년 이상 백엔드 애플리케이션 개발을 경험하신 분\\n...\n",
            "preferred       이런 경험이 있으면 더 좋아요!\\n\\n- 대규모 데이터를 처리한 경험이 있는 분\\n...\n",
            "like                                                            1\n",
            "Name: 535, dtype: object\n",
            "position                          [GUARDIONE SUBSTATION] 백엔드 엔지니어\n",
            "company_name                                    원프레딕트(OnePredict)\n",
            "description     [GUARDIONE SUBSTATION] 백엔드 엔지니어는,\\n\\n- 안정적이고 확...\n",
            "requirement     이런 분이 필요해요!\\n\\n- 5년 이상 백엔드 애플리케이션 개발을 경험하신 분\\n...\n",
            "preferred       이런 경험이 있으면 더 좋아요!\\n\\n- 대규모 데이터를 처리한 경험이 있는 분\\n...\n",
            "like                                                            0\n",
            "Name: 540, dtype: object\n",
            "position                               [GUARDIONE TURBO] 백엔드 엔지니어\n",
            "company_name                                    원프레딕트(OnePredict)\n",
            "description     [GUARDIONE TURBO] 백엔드 엔지니어는,\\n\\n- 안정적이고 확장성 있는...\n",
            "requirement     이런 분이 필요해요!\\n\\n- 5년 이상 백엔드 애플리케이션 개발을 경험하신 분\\n...\n",
            "preferred       이런 경험이 있으면 더 좋아요!\\n\\n- 대규모 데이터를 처리한 경험이 있는 분\\n...\n",
            "like                                                            0\n",
            "Name: 541, dtype: object\n"
          ]
        }
      ],
      "source": [
        "print(contents.iloc[535])\n",
        "print(contents.iloc[540])\n",
        "print(contents.iloc[541])\n",
        "# contents['requirement'] 내용은 중복된 것이지만, 모두 다른 내용의 row이다.\n",
        "# drop_duplicates이 잘 적용된 것으로 간주하자."
      ]
    },
    {
      "cell_type": "code",
      "execution_count": 18,
      "metadata": {
        "colab": {
          "base_uri": "https://localhost:8080/"
        },
        "id": "Lk5YIx9lCNPs",
        "outputId": "57f3e76e-15a9-43b2-fd25-d46096a25c83"
      },
      "outputs": [
        {
          "data": {
            "text/plain": [
              "1372"
            ]
          },
          "execution_count": 18,
          "metadata": {},
          "output_type": "execute_result"
        }
      ],
      "source": [
        "contents['preferred'].nunique() # 1372개의 unique한 'preferred' 존재."
      ]
    },
    {
      "cell_type": "code",
      "execution_count": 19,
      "metadata": {
        "colab": {
          "base_uri": "https://localhost:8080/"
        },
        "id": "UNlxY2RmCRGe",
        "outputId": "aef81fea-42a4-41fe-8de3-7170b84bdb9c"
      },
      "outputs": [
        {
          "data": {
            "text/plain": [
              "- 블록체인 서비스 개발 및 서비스 경험\\n- 실패를 두려워하지 않고 빠르게 실행하고 효율을 분석하는 분                                                                                                                                                                                                                                                                                                                                       4\n",
              "• 모바일 앱의 웹뷰로 제공되는 어플리케이션을 운영해본 경험\\n• 퍼포먼스 모니터링, 에러 모니터링 등 웹 어플리케이션에서 중요한 측정 지표들을 이해하고, 주기적으로 측정하고, 개선해본 경험\\n• 디자인 시스템 컴포넌트를 설계, 구현 및 운영해본 경험\\n• 단순히 테스트 커버리지를 높이기보다는, 개발자를 도와주는 가치있는 테스트를 UI 컴포넌트부터 E2E까지 다양한 환경에서 작성하고 유지보수해본 경험\\n• GraphQL API를 직접 설계/구현하거나, 호출하여 개발/운영해본 경험\\n• CDN, HTTP 캐시, 어플리케이션 캐시 등 여러 레이어에서의 캐싱을 깊이 고민해본 경험\\n• Terraform, Cloudformation 등 IaaS를 이용한 프론트엔드 인프라 구축 경험    3\n",
              "이런 경험이 있으면 더 좋아요!\\n\\n- 대규모 데이터를 처리한 경험이 있는 분\\n- ML과 DevOps에 대한 이해와 경험이 있는 분\\n- Microservices 또는 분산 서버 환경에 대한 경험이 있는 분\\n- Agile 방법론에 익숙하고 TDD, Pair Programming 등을 실천하시는 분\\n- Python, Flask, SQLAlchemy, Celery 등 관련 기술에 능숙하신 분                                                                                                                                                                   3\n",
              "• 원활한 의사소통 능력이 뛰어나신 분이면 좋습니다.\\n• 적극적으로 서비스 개선에 필요한 업무를 찾고 개선할 수 있는 인성과 역량이 있는 분이면 좋습니다.\\n• Typescript 적용 또는 사용 경험 및 테스트 코드(Jest, Jasmine, Mocha ...) 작성 경험이 있는 분이면 좋습니다.\\n• 최적화 및 리팩토링에 대한 고민을 늘 하는 분이면 좋습니다.\\n• 프론트엔드 성능 최적화 경험이나 여러 환경의 크로스브라우징 경험을 하신 분이면 좋습니다.\\n• 업무 생산성 및 서비스 퍼포먼스를 높일 수 있는 개발 언어 및 도구에 대한 관심과 적응력이 뛰어나신 분이면 좋습니다.\\n• 개발문서를 영어로 독해가 가능한 분이면 좋습니다.                           2\n",
              "- 클라우드 환경에서 백엔드 엔지니어링 및 운영 경험\\n- 쿠버네티스, 도커등 컨테이너 환경의 개발 및 운영 경험                                                                                                                                                                                                                                                                                                                                  2\n",
              "                                                                                                                                                                                                                                                                                                                                                                                                ..\n",
              "• Python 개발에 익숙하신 분\\n• DB 구조 설계 및 SQL 개발 역량 보유 하신 분\\n• linux 플랫폼에서 웹 서비스 개발/운영 경험이 있으신 분\\n• RestFul API 기반 설계 및 구현 가능 하신 분\\n• 서비스 개발에 대한 열정과 팀원과의 의사소통이 원활 하신 분\\n• Ai 모델을 활용한 개발 경험이 있으신 분                                                                                                                                                                                                       1\n",
              "• 새로운 언어나 프레임워크 적용에 적극적이신 분\\n• 클라우드(구글, AWS, Azure)환경에서의 개발 경험이 있으신 분\\n• 아키텍처 설계 및 개발 경험을 보유하신 분\\n• 영어 가능자                                                                                                                                                                                                                                                                                       1\n",
              "• 아두이노, 라즈베리파이와 같은 IOT 센서 기반 데이터를 활용하여 API를 설계하고 DB와 연동한 경험                                                                                                                                                                                                                                                                                                                                      1\n",
              "ㆍASP.NET 프레임워크 경험자\\nㆍWebsocket, RESTful, Modbus, SECS/GEM 경험자\\nㆍRDB(MySql, MariaDB)와 ORM 사용 경험자\\nㆍgit 사용 경험자\\nㆍ풀스택가능자                                                                                                                                                                                                                                                                            1\n",
              "• 북미 거주 경험이 있는 분\\n• 서비스 운영, 전략 기획에 경험이 있는 분\\n• 다양한 번역 경험이 있으신 분\\n• 트렌드 파악이 빠르고 다양한 장르의 콘텐츠를 즐기는 분\\n• 성장에 대한 마인드셋을 갖추신 분\\n• 능동적으로 문제를 해결하고자 하는 자세를 가진 분                                                                                                                                                                                                                                           1\n",
              "Name: preferred, Length: 1372, dtype: int64"
            ]
          },
          "execution_count": 19,
          "metadata": {},
          "output_type": "execute_result"
        }
      ],
      "source": [
        "contents['preferred'].value_counts() # 'preferred'의 중복되기도하는 여러 값들."
      ]
    },
    {
      "cell_type": "code",
      "execution_count": 20,
      "metadata": {
        "colab": {
          "base_uri": "https://localhost:8080/"
        },
        "id": "pMRFoDmpKscc",
        "outputId": "ddfcf0f0-c4c9-4d85-b91a-d3d222ab4cf3"
      },
      "outputs": [
        {
          "name": "stdout",
          "output_type": "stream",
          "text": [
            "index [78, 95, 122, 570]의 내용은 - 블록체인 서비스 개발 및 서비스 경험\n",
            "- 실패를 두려워하지 않고 빠르게 실행하고 효율을 분석하는 분% \n"
          ]
        }
      ],
      "source": [
        "# contents['preferred']에서 중복된 값이 무엇인지 찾아보자.\n",
        "test = \"- 블록체인 서비스 개발 및 서비스 경험\\n- 실패를 두려워하지 않고 빠르게 실행하고 효율을 분석하는 분\"\n",
        "index = [i for i, v in enumerate(contents['preferred']) if v==test]\n",
        "print('index {}의 내용은 {}% '.format(list(map(lambda x: x, index)), test))"
      ]
    },
    {
      "cell_type": "code",
      "execution_count": 21,
      "metadata": {
        "colab": {
          "base_uri": "https://localhost:8080/"
        },
        "id": "_XYAUDwqK2lp",
        "outputId": "c2e27bd8-c21d-41f2-af3e-3371bb2b4853"
      },
      "outputs": [
        {
          "name": "stdout",
          "output_type": "stream",
          "text": [
            "position                             백엔드 개발자 (Back-end Developer)\n",
            "company_name                                                  카르도\n",
            "description     - 디지털자산 지갑의 입출금, 콜드월렛, 리밸런싱 및 메인넷별 업데이트와 각종 AP...\n",
            "requirement     - 고가용성의 확장 가능한 시스템 설계/운영 경험 있는 분\\n- 대규모의 실시간 트...\n",
            "preferred       - 블록체인 서비스 개발 및 서비스 경험\\n- 실패를 두려워하지 않고 빠르게 실행하...\n",
            "like                                                           21\n",
            "Name: 78, dtype: object\n",
            "position                                             [신입] 백엔드 개발자\n",
            "company_name                                                  카르도\n",
            "description     - 디지털자산 지갑의 입출금, 콜드월렛, 리밸런싱 및 메인넷별 업데이트와 각종 AP...\n",
            "requirement     - 고가용성의 확장 가능한 시스템 설계/운영 경험 있는 분\\n- 대규모의 실시간 트...\n",
            "preferred       - 블록체인 서비스 개발 및 서비스 경험\\n- 실패를 두려워하지 않고 빠르게 실행하...\n",
            "like                                                            6\n",
            "Name: 95, dtype: object\n",
            "position                                             [현역] 백엔드 개발자\n",
            "company_name                                                 헥슬란트\n",
            "description     - 블록체인 개발자 도구(옥텟) - 백엔드 시스템 개발\\n- 가상자산 지갑 서비스 ...\n",
            "requirement     - 고가용성의 확장 가능한 시스템 설계/운영 경험 있는 분\\n- 대규모의 실시간 트...\n",
            "preferred       - 블록체인 서비스 개발 및 서비스 경험\\n- 실패를 두려워하지 않고 빠르게 실행하...\n",
            "like                                                            5\n",
            "Name: 122, dtype: object\n",
            "position                          프론트엔드 개발자 (Front-end Developer)\n",
            "company_name                                                  카르도\n",
            "description                                - 가상자산 보관 서비스 프론트엔드 개발\n",
            "requirement     - Typescript, React 기반의 개발 경험 있는 분\\n- 비동기, 함수형...\n",
            "preferred       - 블록체인 서비스 개발 및 서비스 경험\\n- 실패를 두려워하지 않고 빠르게 실행하...\n",
            "like                                                           26\n",
            "Name: 570, dtype: object\n"
          ]
        }
      ],
      "source": [
        "print(contents.iloc[78])\n",
        "print(contents.iloc[95])\n",
        "print(contents.iloc[122])\n",
        "print(contents.iloc[570])\n",
        "# contents['preferred'] 내용은 중복된 것이지만, 모두 다른 내용의 row이다.\n",
        "# drop_duplicates이 잘 적용된 것으로 간주하자."
      ]
    },
    {
      "cell_type": "code",
      "execution_count": 22,
      "metadata": {
        "colab": {
          "base_uri": "https://localhost:8080/",
          "height": 448
        },
        "id": "m92lms8oCdbe",
        "outputId": "a714c1e3-0d78-44a9-ab70-b0315b911016"
      },
      "outputs": [
        {
          "data": {
            "text/plain": [
              "780"
            ]
          },
          "execution_count": 22,
          "metadata": {},
          "output_type": "execute_result"
        },
        {
          "data": {
            "image/png": "[encoded data removed]",
            "text/plain": [
              "<Figure size 640x480 with 1 Axes>"
            ]
          },
          "metadata": {},
          "output_type": "display_data"
        }
      ],
      "source": [
        "contents['like'].plot.hist(bins=100)\n",
        "max(contents['like']) # 'like'의 가장 큰 값이 780이다."
      ]
    },
    {
      "cell_type": "code",
      "execution_count": 23,
      "metadata": {
        "id": "tceNz6tRDioX"
      },
      "outputs": [],
      "source": [
        "contents.to_csv('contents.csv', encoding=\"utf-8-sig\")"
      ]
    }
  ],
  "metadata": {
    "colab": {
      "provenance": []
    },
    "kernelspec": {
      "display_name": "statenv",
      "language": "python",
      "name": "statenv"
    },
    "language_info": {
      "codemirror_mode": {
        "name": "ipython",
        "version": 3
      },
      "file_extension": ".py",
      "mimetype": "text/x-python",
      "name": "python",
      "nbconvert_exporter": "python",
      "pygments_lexer": "ipython3",
      "version": "3.9.0"
    }
  },
  "nbformat": 4,
  "nbformat_minor": 0
}
